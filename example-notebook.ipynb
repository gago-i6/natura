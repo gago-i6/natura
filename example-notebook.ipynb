{
 "cells": [
  {
   "cell_type": "markdown",
   "id": "6132a562-9b1b-4657-b6ba-637d6e675ec4",
   "metadata": {},
   "source": [
    "# CatalogX"
   ]
  },
  {
   "cell_type": "markdown",
   "id": "113961ef-62e1-4c6d-ab28-8e10802817af",
   "metadata": {},
   "source": [
    "### Dependências"
   ]
  },
  {
   "cell_type": "code",
   "execution_count": 2,
   "id": "199c184d-b3fe-4662-90b0-ba1b830eab6c",
   "metadata": {},
   "outputs": [],
   "source": [
    "import pandas\n",
    "\n",
    "from utils import similarity, match"
   ]
  },
  {
   "cell_type": "markdown",
   "id": "ad8fb21c-7386-4102-8666-a6147f3d84ec",
   "metadata": {},
   "source": [
    "### Datasets de Exemplo"
   ]
  },
  {
   "cell_type": "code",
   "execution_count": 6,
   "id": "693ffd3f-a82f-417a-b9c4-19d1d46455c0",
   "metadata": {},
   "outputs": [
    {
     "name": "stdout",
     "output_type": "stream",
     "text": [
      "Nomes únicos\n",
      "   id   name\n",
      "0   0   gago\n",
      "1   1  paulo\n",
      "2   2   tatu\n",
      "-------------------- \n",
      "\n",
      "Todos os nomes\n",
      "   cod   name\n",
      "0   10   gato\n",
      "1   20   gago\n",
      "2   30   galo\n",
      "3   40   sapo\n",
      "4   50  saulo\n",
      "5   60  paulo\n",
      "6   70   pato\n",
      "7   80   tatu\n",
      "8   90  teucu\n"
     ]
    }
   ],
   "source": [
    "df1 = pandas.DataFrame(data={\n",
    "    'id':   [0     , 1      , 2     ],\n",
    "    'name': ['gago', 'paulo', 'tatu']\n",
    "})\n",
    "\n",
    "df2 = pandas.DataFrame(data={\n",
    "    'cod':  [10    , 20    , 30    , 40    , 50     , 60     , 70    , 80    , 90     ],\n",
    "    'name': ['gato', 'gago', 'galo', 'sapo', 'saulo', 'paulo', 'pato', 'tatu', 'teucu']\n",
    "})\n",
    "\n",
    "print('Nomes únicos')\n",
    "print(df1)\n",
    "print('-'*20,'\\n')\n",
    "print('Todos os nomes')\n",
    "print(df2)"
   ]
  },
  {
   "cell_type": "markdown",
   "id": "6b2ed7e9-fd82-4430-a5e8-d3ef132c6974",
   "metadata": {},
   "source": [
    "### Match"
   ]
  },
  {
   "cell_type": "code",
   "execution_count": 7,
   "id": "0520b42e-a996-4755-a1b5-01b1d15e7650",
   "metadata": {},
   "outputs": [
    {
     "data": {
      "text/html": [
       "<div>\n",
       "<style scoped>\n",
       "    .dataframe tbody tr th:only-of-type {\n",
       "        vertical-align: middle;\n",
       "    }\n",
       "\n",
       "    .dataframe tbody tr th {\n",
       "        vertical-align: top;\n",
       "    }\n",
       "\n",
       "    .dataframe thead th {\n",
       "        text-align: right;\n",
       "    }\n",
       "</style>\n",
       "<table border=\"1\" class=\"dataframe\">\n",
       "  <thead>\n",
       "    <tr style=\"text-align: right;\">\n",
       "      <th></th>\n",
       "      <th>cod</th>\n",
       "      <th>name</th>\n",
       "      <th>id</th>\n",
       "    </tr>\n",
       "  </thead>\n",
       "  <tbody>\n",
       "    <tr>\n",
       "      <th>0</th>\n",
       "      <td>10</td>\n",
       "      <td>gato</td>\n",
       "      <td>0</td>\n",
       "    </tr>\n",
       "    <tr>\n",
       "      <th>1</th>\n",
       "      <td>20</td>\n",
       "      <td>gago</td>\n",
       "      <td>0</td>\n",
       "    </tr>\n",
       "    <tr>\n",
       "      <th>2</th>\n",
       "      <td>30</td>\n",
       "      <td>galo</td>\n",
       "      <td>0</td>\n",
       "    </tr>\n",
       "    <tr>\n",
       "      <th>3</th>\n",
       "      <td>40</td>\n",
       "      <td>sapo</td>\n",
       "      <td>-1</td>\n",
       "    </tr>\n",
       "    <tr>\n",
       "      <th>4</th>\n",
       "      <td>50</td>\n",
       "      <td>saulo</td>\n",
       "      <td>1</td>\n",
       "    </tr>\n",
       "    <tr>\n",
       "      <th>5</th>\n",
       "      <td>60</td>\n",
       "      <td>paulo</td>\n",
       "      <td>1</td>\n",
       "    </tr>\n",
       "    <tr>\n",
       "      <th>6</th>\n",
       "      <td>70</td>\n",
       "      <td>pato</td>\n",
       "      <td>1</td>\n",
       "    </tr>\n",
       "    <tr>\n",
       "      <th>7</th>\n",
       "      <td>80</td>\n",
       "      <td>tatu</td>\n",
       "      <td>2</td>\n",
       "    </tr>\n",
       "    <tr>\n",
       "      <th>8</th>\n",
       "      <td>90</td>\n",
       "      <td>teucu</td>\n",
       "      <td>-1</td>\n",
       "    </tr>\n",
       "  </tbody>\n",
       "</table>\n",
       "</div>"
      ],
      "text/plain": [
       "   cod   name  id\n",
       "0   10   gato   0\n",
       "1   20   gago   0\n",
       "2   30   galo   0\n",
       "3   40   sapo  -1\n",
       "4   50  saulo   1\n",
       "5   60  paulo   1\n",
       "6   70   pato   1\n",
       "7   80   tatu   2\n",
       "8   90  teucu  -1"
      ]
     },
     "execution_count": 7,
     "metadata": {},
     "output_type": "execute_result"
    }
   ],
   "source": [
    "df2['id'] = df2['name'].apply(lambda x : match(df=df1, _str=x))\n",
    "df2"
   ]
  },
  {
   "cell_type": "markdown",
   "id": "859140a0-4201-440e-b20d-fc8cb96962fe",
   "metadata": {},
   "source": [
    "### Dataset Agregado"
   ]
  },
  {
   "cell_type": "code",
   "execution_count": 8,
   "id": "b86bbb3b-65db-4709-91b6-8e28d075a7c1",
   "metadata": {},
   "outputs": [
    {
     "data": {
      "text/html": [
       "<div>\n",
       "<style scoped>\n",
       "    .dataframe tbody tr th:only-of-type {\n",
       "        vertical-align: middle;\n",
       "    }\n",
       "\n",
       "    .dataframe tbody tr th {\n",
       "        vertical-align: top;\n",
       "    }\n",
       "\n",
       "    .dataframe thead th {\n",
       "        text-align: right;\n",
       "    }\n",
       "</style>\n",
       "<table border=\"1\" class=\"dataframe\">\n",
       "  <thead>\n",
       "    <tr style=\"text-align: right;\">\n",
       "      <th></th>\n",
       "      <th>id</th>\n",
       "      <th>name</th>\n",
       "      <th>cod</th>\n",
       "    </tr>\n",
       "  </thead>\n",
       "  <tbody>\n",
       "    <tr>\n",
       "      <th>0</th>\n",
       "      <td>-1</td>\n",
       "      <td>---</td>\n",
       "      <td>[40, 90]</td>\n",
       "    </tr>\n",
       "    <tr>\n",
       "      <th>1</th>\n",
       "      <td>0</td>\n",
       "      <td>gago</td>\n",
       "      <td>[10, 20, 30]</td>\n",
       "    </tr>\n",
       "    <tr>\n",
       "      <th>2</th>\n",
       "      <td>1</td>\n",
       "      <td>paulo</td>\n",
       "      <td>[50, 60, 70]</td>\n",
       "    </tr>\n",
       "    <tr>\n",
       "      <th>3</th>\n",
       "      <td>2</td>\n",
       "      <td>tatu</td>\n",
       "      <td>[80]</td>\n",
       "    </tr>\n",
       "  </tbody>\n",
       "</table>\n",
       "</div>"
      ],
      "text/plain": [
       "   id   name           cod\n",
       "0  -1    ---      [40, 90]\n",
       "1   0   gago  [10, 20, 30]\n",
       "2   1  paulo  [50, 60, 70]\n",
       "3   2   tatu          [80]"
      ]
     },
     "execution_count": 8,
     "metadata": {},
     "output_type": "execute_result"
    }
   ],
   "source": [
    "dfm = df2 \\\n",
    "    .drop('name', axis=1) \\\n",
    "    .merge(df1, on='id', how='left') \\\n",
    "    .fillna('---') \\\n",
    "    .groupby(['id', 'name'])['cod'] \\\n",
    "    .apply(list).reset_index()\n",
    "\n",
    "dfm"
   ]
  },
  {
   "cell_type": "code",
   "execution_count": null,
   "id": "5f509c60-c8f3-4427-aae5-e36d133890a3",
   "metadata": {},
   "outputs": [],
   "source": []
  },
  {
   "cell_type": "code",
   "execution_count": null,
   "id": "ed01e023-4f5a-4177-8a8d-9e2a9e46df70",
   "metadata": {},
   "outputs": [],
   "source": []
  }
 ],
 "metadata": {
  "kernelspec": {
   "display_name": "Python 3 (ipykernel)",
   "language": "python",
   "name": "python3"
  },
  "language_info": {
   "codemirror_mode": {
    "name": "ipython",
    "version": 3
   },
   "file_extension": ".py",
   "mimetype": "text/x-python",
   "name": "python",
   "nbconvert_exporter": "python",
   "pygments_lexer": "ipython3",
   "version": "3.9.15"
  }
 },
 "nbformat": 4,
 "nbformat_minor": 5
}
